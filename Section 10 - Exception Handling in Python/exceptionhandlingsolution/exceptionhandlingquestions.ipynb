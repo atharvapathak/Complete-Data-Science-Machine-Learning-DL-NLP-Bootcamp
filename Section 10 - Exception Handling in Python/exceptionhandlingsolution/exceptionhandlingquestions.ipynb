{
 "cells": [
  {
   "cell_type": "markdown",
   "metadata": {},
   "source": [
    "# Module: Exception Handling Assignments\n",
    "## Lesson: Exception Handling with try, except, and finally\n",
    "\n",
    "\n",
    "\n",
    "\n",
    "\n",
    "\n"
   ]
  },
  {
   "cell_type": "code",
   "execution_count": 5,
   "metadata": {},
   "outputs": [
    {
     "name": "stdout",
     "output_type": "stream",
     "text": [
      "Execution done\n",
      "5.0\n",
      "division by zero\n",
      "Execution done\n",
      "None\n"
     ]
    }
   ],
   "source": [
    "\n",
    "# ### Assignment 1: Handling Division by Zero\n",
    "\n",
    "# Write a function that takes two integers as input and returns their division. Use try, except, and finally blocks to handle division by zero and print an appropriate message.\n",
    "\n",
    "def func (a,b):\n",
    "    try:\n",
    "        result = a/b\n",
    "    except ZeroDivisionError as ex:\n",
    "        print(ex)\n",
    "        result = None\n",
    "    finally:\n",
    "        print(\"Execution done\")\n",
    "    return result\n",
    "\n",
    "\n",
    "print(func(10, 2))  # 5.0\n",
    "print(func(10, 0))"
   ]
  },
  {
   "cell_type": "code",
   "execution_count": 10,
   "id": "bc6e76fe",
   "metadata": {},
   "outputs": [
    {
     "name": "stdout",
     "output_type": "stream",
     "text": [
      "[Errno 2] No such file or directory: 'data.txt'\n"
     ]
    }
   ],
   "source": [
    "# ### Assignment 2: File Reading with Exception Handling\n",
    "\n",
    "# Write a function that reads the contents of a file named `data.txt`. Use try, except, and finally blocks to handle file not found errors and ensure the file is properly closed.\n",
    "\n",
    "try:\n",
    "    with open ('data.txt', 'r') as file:\n",
    "        content = file.read()\n",
    "        print(content)\n",
    "except Exception as ex:\n",
    "    print(ex)\n",
    "finally:\n",
    "    try:\n",
    "        file.close()\n",
    "    except NameError:\n",
    "        pass\n",
    "\n",
    "\n"
   ]
  },
  {
   "cell_type": "code",
   "execution_count": 12,
   "id": "97d5892d",
   "metadata": {},
   "outputs": [
    {
     "name": "stdout",
     "output_type": "stream",
     "text": [
      "unsupported operand type(s) for +: 'int' and 'str'\n",
      "Execution Done\n"
     ]
    }
   ],
   "source": [
    "# ### Assignment 3: Handling Multiple Exceptions\n",
    "\n",
    "# Write a function that takes a list of integers and returns their sum. Use try, except, and finally blocks to handle TypeError if a non-integer value is encountered and print an appropriate message.\n",
    "\n",
    "a = [1,2,3,4,5, 'a']\n",
    "try:\n",
    "    b = sum(a)\n",
    "    print(b)\n",
    "except Exception as ex:\n",
    "    print(ex)\n",
    "finally:\n",
    "    print(\"Execution Done\")\n"
   ]
  },
  {
   "cell_type": "code",
   "execution_count": 15,
   "id": "c0afc466",
   "metadata": {},
   "outputs": [
    {
     "name": "stdout",
     "output_type": "stream",
     "text": [
      "invalid literal for int() with base 10: 'a'\n",
      "Execution done\n"
     ]
    }
   ],
   "source": [
    "\n",
    "# ### Assignment 4: Exception Handling in User Input\n",
    "\n",
    "# Write a function that prompts the user to enter an integer. Use try, except, and finally blocks to handle ValueError if the user enters a non-integer value and print an appropriate message.\n",
    "\n",
    "try:\n",
    "    a = int(input(\"Enter a  number\"))\n",
    "except ValueError as ex:\n",
    "    print(ex)\n",
    "finally:\n",
    "    print(\"Execution done\")\n",
    "\n",
    "\n"
   ]
  },
  {
   "cell_type": "code",
   "execution_count": 32,
   "id": "8b0e5432",
   "metadata": {},
   "outputs": [
    {
     "name": "stdout",
     "output_type": "stream",
     "text": [
      "Execution complete\n",
      "1\n",
      "Error : 4\n",
      "Execution complete\n",
      "None\n"
     ]
    }
   ],
   "source": [
    "# ### Assignment 5: Exception Handling in Dictionary Access\n",
    "\n",
    "# Write a function that takes a dictionary and a key as input and returns the value associated with the key. Use try, except, and finally blocks to handle KeyError if the key is not found in the dictionary and print an appropriate message.\n",
    "\n",
    "\n",
    "def func (d,key):\n",
    "    try:\n",
    "        value = d[key]\n",
    "        return value\n",
    "    except KeyError as ex:\n",
    "        print(f\"Error : {ex}\")\n",
    "    finally:\n",
    "        print(\"Execution complete\")\n",
    "\n",
    "\n",
    "d = {1:1, 2:2, 3:3}\n",
    "print(func(d,1))\n",
    "print(func(d,4))"
   ]
  },
  {
   "cell_type": "code",
   "execution_count": 37,
   "id": "ebb83154",
   "metadata": {},
   "outputs": [
    {
     "name": "stdout",
     "output_type": "stream",
     "text": [
      "0\n",
      "division by zero\n",
      "Execution Complete\n",
      "Execution complete.\n",
      "None\n",
      "invalid literal for int() with base 10: 'a'\n",
      "Execution complete.\n",
      "None\n",
      "2\n",
      "5.0\n",
      "Execution Complete\n",
      "Execution complete.\n",
      "None\n"
     ]
    }
   ],
   "source": [
    "# ### Assignment 6: Nested Exception Handling\n",
    "\n",
    "# Write a function that performs nested exception handling. It should first attempt to convert a string to an integer, and then attempt to divide by that integer. Use nested try, except, and finally blocks to handle ValueError and ZeroDivisionError and print appropriate messages.\n",
    "def func(a):\n",
    "    try:\n",
    "        a = int(a)\n",
    "        print(f\"{a}\")\n",
    "        try:\n",
    "            a = 10/a\n",
    "            print(f\"{a}\")\n",
    "        except Exception as ex:\n",
    "            print(f\"{ex}\")\n",
    "        finally:\n",
    "            print(f\"Execution Complete\")\n",
    "\n",
    "    except Exception as ex:\n",
    "        print(f\"{ex}\")\n",
    "    finally:\n",
    "        print(f\"Execution complete.\")\n",
    "\n",
    "\n",
    "print(func('0'))  # None\n",
    "print(func('a'))  # None\n",
    "print(func('2'))  # 5.0\n",
    "\n"
   ]
  },
  {
   "cell_type": "code",
   "execution_count": 48,
   "id": "5725f6c3",
   "metadata": {},
   "outputs": [
    {
     "name": "stdout",
     "output_type": "stream",
     "text": [
      "list index out of range\n",
      "\n",
      "ExecutionComplete\n"
     ]
    }
   ],
   "source": [
    "\n",
    "\n",
    "# ### Assignment 7: Exception Handling in List Operations\n",
    "\n",
    "# Write a function that takes a list and an index as input and returns the element at the given index. Use try, except, and finally blocks to handle IndexError if the index is out of range and print an appropriate message.\n",
    "\n",
    "\n",
    "\n",
    "\n",
    "\n",
    "def func (c,d):\n",
    "    try:\n",
    "        print(c[d])\n",
    "    except IndexError as ex:\n",
    "        print(ex)\n",
    "    finally:\n",
    "        print(f\"\\nExecutionComplete\")\n",
    "\n",
    "a = [1,2,3,4,5,6,7]\n",
    "b = 78\n",
    "\n",
    "func(a,b)    "
   ]
  },
  {
   "cell_type": "code",
   "execution_count": null,
   "id": "f3fd10da",
   "metadata": {},
   "outputs": [],
   "source": [
    "# ### Assignment 8: Exception Handling in Network Operations\n",
    "\n",
    "# Write a function that attempts to open a URL and read its contents. Use try, except, and finally blocks to handle network-related errors and print an appropriate message.\n",
    "\n"
   ]
  },
  {
   "cell_type": "code",
   "execution_count": null,
   "id": "80508f84",
   "metadata": {},
   "outputs": [],
   "source": [
    "### Assignment 9: Exception Handling in JSON Parsing\n",
    "\n",
    "Write a function that attempts to parse a JSON string. Use try, except, and finally blocks to handle JSONDecodeError if the string is not a valid JSON and print an appropriate message.\n",
    "\n"
   ]
  },
  {
   "cell_type": "code",
   "execution_count": 50,
   "id": "9505fca9",
   "metadata": {},
   "outputs": [
    {
     "name": "stdout",
     "output_type": "stream",
     "text": [
      "Execution Complete\n",
      "None\n"
     ]
    }
   ],
   "source": [
    "# ### Assignment 10: Custom Exception Handling\n",
    "\n",
    "# Define a custom exception named `NegativeNumberError`. Write a function that raises this exception if a negative number is encountered in a list. Use try, except, and finally blocks to handle the custom exception and print an appropriate message.\n",
    "\n",
    "def func(a):\n",
    "    try:\n",
    "        for num in a:\n",
    "            if num < 0:\n",
    "                raise NegativeNumberError(f\"Negative number found: {num}\")\n",
    "    except Exception as e:\n",
    "                print(e)\n",
    "    finally:\n",
    "        print(f\"Execution Complete\")\n",
    "        \n",
    "        \n",
    "\n",
    "b = [1,2,3,4,5,6]\n",
    "print(func(b))\n"
   ]
  },
  {
   "cell_type": "code",
   "execution_count": null,
   "id": "b3aeac2a",
   "metadata": {},
   "outputs": [],
   "source": [
    "# ### Assignment 11: Exception Handling in Function Calls\n",
    "\n",
    "# Write a function that calls another function which may raise an exception. Use try, except, and finally blocks to handle the exception and print an appropriate message.\n",
    "\n"
   ]
  },
  {
   "cell_type": "code",
   "execution_count": 62,
   "id": "aeba1fc8",
   "metadata": {},
   "outputs": [
    {
     "name": "stdout",
     "output_type": "stream",
     "text": [
      "Execution complete\n",
      "5.0\n",
      "division by zero\n",
      "Execution complete\n",
      "None\n"
     ]
    }
   ],
   "source": [
    "# ### Assignment 12: Exception Handling in Class Methods\n",
    "\n",
    "# Define a class with a method that performs a division operation. Use try, except, and finally blocks within the method to handle division by zero and print an appropriate message.\n",
    "\n",
    "class mathematics:\n",
    "    def mathema(self,a,b):\n",
    "        try:\n",
    "            result = a/b\n",
    "            return result\n",
    "        except ZeroDivisionError as ex:\n",
    "            print(ex)\n",
    "        finally:\n",
    "            print(\"Execution complete\")\n",
    "        \n",
    "calc = mathematics()\n",
    "        \n",
    "print(calc.mathema(10,2))\n",
    "\n",
    "print(calc.mathema(10,0))\n"
   ]
  },
  {
   "cell_type": "code",
   "execution_count": null,
   "id": "84059c2e",
   "metadata": {},
   "outputs": [],
   "source": [
    "### Assignment 13: Exception Handling in Data Conversion\n",
    "\n",
    "# Write a function that takes a list of strings and converts them to integers. Use try, except, and finally blocks to handle ValueError if a string cannot be converted and print an appropriate message.\n",
    "\n",
    "a = ['1', '2', '3', 'Four']\n",
    "b = ['1', '2', '3', '4']\n",
    "\n",
    "def func(c):\n",
    "    try:\n",
    "        "
   ]
  },
  {
   "cell_type": "code",
   "execution_count": null,
   "id": "3525051b",
   "metadata": {},
   "outputs": [],
   "source": [
    "### Assignment 14: Exception Handling in List Comprehensions\n",
    "\n",
    "Write a function that uses a list comprehension to convert a list of strings to integers. Use try, except, and finally blocks within the list comprehension to handle ValueError and print an appropriate message.\n",
    "\n"
   ]
  },
  {
   "cell_type": "code",
   "execution_count": null,
   "id": "f7e2b78a",
   "metadata": {},
   "outputs": [],
   "source": [
    "### Assignment 15: Exception Handling in File Writing\n",
    "\n",
    "Write a function that attempts to write a list of strings to a file. Use try, except, and finally blocks to handle IOError and ensure the file is properly closed."
   ]
  }
 ],
 "metadata": {
  "kernelspec": {
   "display_name": "base",
   "language": "python",
   "name": "python3"
  },
  "language_info": {
   "codemirror_mode": {
    "name": "ipython",
    "version": 3
   },
   "file_extension": ".py",
   "mimetype": "text/x-python",
   "name": "python",
   "nbconvert_exporter": "python",
   "pygments_lexer": "ipython3",
   "version": "3.12.4"
  }
 },
 "nbformat": 4,
 "nbformat_minor": 5
}
