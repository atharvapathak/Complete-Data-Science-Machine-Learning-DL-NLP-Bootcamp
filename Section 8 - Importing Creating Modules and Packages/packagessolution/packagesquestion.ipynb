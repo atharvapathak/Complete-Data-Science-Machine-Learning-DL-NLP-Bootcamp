{
 "cells": [
  {
   "cell_type": "markdown",
   "metadata": {},
   "source": [
    "# Module 5: Modules and Packages Assignments\n",
    "## Lesson 5.1: Importing Modules\n",
    "\n",
    "\n",
    "\n",
    "\n",
    "\n",
    "\n",
    "\n",
    "\n",
    "\n",
    "\n",
    "\n",
    "\n",
    "\n",
    "\n",
    "\n",
    "### Assignment 15: Handling Package Import Errors\n",
    "\n",
    "Write code that attempts to import a non-existent function from `mypackage` and gracefully handles the import error by printing an error message."
   ]
  },
  {
   "cell_type": "code",
   "execution_count": 7,
   "id": "0fdcc0a6",
   "metadata": {},
   "outputs": [
    {
     "name": "stdout",
     "output_type": "stream",
     "text": [
      "6.0\n",
      "1.0\n"
     ]
    }
   ],
   "source": [
    "# ### Assignment 1: Importing and Using Modules\n",
    "\n",
    "# Import the `math` module and use it to calculate the square root of 25 and the sine of 90 degrees.\n",
    "\n",
    "import math\n",
    "print(math.sqrt(36))\n",
    "print(math.sin(math.radians(90)))"
   ]
  },
  {
   "cell_type": "code",
   "execution_count": 8,
   "metadata": {},
   "outputs": [
    {
     "name": "stdout",
     "output_type": "stream",
     "text": [
      "2025-02-10 10:39:07.916664\n"
     ]
    }
   ],
   "source": [
    "# ### Assignment 2: Aliasing Modules\n",
    "\n",
    "# Import the `datetime` module with an alias and use it to print the current date and time.\n",
    "\n",
    "import datetime as dt\n",
    "print(dt.datetime.now())"
   ]
  },
  {
   "cell_type": "code",
   "execution_count": 13,
   "id": "d1a2b97d",
   "metadata": {},
   "outputs": [
    {
     "name": "stdout",
     "output_type": "stream",
     "text": [
      "3\n"
     ]
    }
   ],
   "source": [
    "\n",
    "# ### Assignment 3: Importing Specific Functions\n",
    "\n",
    "# Import the `randint` function from the `random` module and use it to generate a random integer between 1 and 100.\n",
    "\n",
    "import random\n",
    "print(random.randint(1,5))"
   ]
  },
  {
   "cell_type": "code",
   "execution_count": 14,
   "id": "4f08801b",
   "metadata": {},
   "outputs": [
    {
     "name": "stdout",
     "output_type": "stream",
     "text": [
      "4.0\n",
      "8.0\n"
     ]
    }
   ],
   "source": [
    "\n",
    "# ### Assignment 4: Importing Multiple Functions\n",
    "\n",
    "# Import the `sqrt` and `pow` functions from the `math` module and use them to calculate the square root of 16 and 2 raised to the power of 3.\n",
    "\n",
    "import math\n",
    "\n",
    "print(math.sqrt(16))\n",
    "print(math.pow(2,3))"
   ]
  },
  {
   "cell_type": "code",
   "execution_count": 18,
   "id": "293ddad7",
   "metadata": {},
   "outputs": [
    {
     "name": "stdout",
     "output_type": "stream",
     "text": [
      "Error importing module: No module named 'atharva'\n"
     ]
    }
   ],
   "source": [
    "\n",
    "# ### Assignment 5: Handling Import Errors\n",
    "\n",
    "# Write code that attempts to import a non-existent module and gracefully handles the import error by printing an error message.\n",
    "\n",
    "try:\n",
    "    import atharva\n",
    "except ModuleNotFoundError as e:\n",
    "    print(f\"Error importing module: {e}\")\n"
   ]
  },
  {
   "cell_type": "code",
   "execution_count": 32,
   "id": "26263f2f",
   "metadata": {},
   "outputs": [
    {
     "name": "stdout",
     "output_type": "stream",
     "text": [
      "['new_directory', 'packagesquestion.ipynb', 'packagessolution.ipynb']\n",
      "['packagesquestion.ipynb', 'packagessolution.ipynb']\n"
     ]
    }
   ],
   "source": [
    "# ## Lesson 5.2: Standard Library Overview\n",
    "# ### Assignment 6: Working with the `os` Module\n",
    "\n",
    "# Use the `os` module to create a new directory, list the contents of the current directory, and remove the newly created directory.\n",
    "\n",
    "import os\n",
    "\n",
    "os.mkdir('./new_directory')\n",
    "print(os.listdir())\n",
    "\n",
    "os.rmdir('new_directory')\n",
    "print(os.listdir())"
   ]
  },
  {
   "cell_type": "code",
   "execution_count": 37,
   "id": "e1fe3864",
   "metadata": {},
   "outputs": [
    {
     "name": "stdout",
     "output_type": "stream",
     "text": [
      "sys.version_info(major=3, minor=12, micro=0, releaselevel='final', serial=0)\n",
      "3.12.0 | packaged by Anaconda, Inc. | (main, Oct  2 2023, 17:20:38) [MSC v.1916 64 bit (AMD64)]\n",
      "['c:\\\\Atharva\\\\Python\\\\venv\\\\Lib\\\\site-packages\\\\ipykernel_launcher.py', '--f=c:\\\\Users\\\\atharva.pathak\\\\AppData\\\\Roaming\\\\jupyter\\\\runtime\\\\kernel-v39e7d66f464279d3cbdf837875ea76b8c8521f63c.json']\n"
     ]
    }
   ],
   "source": [
    "# ### Assignment 7: Working with the `sys` Module\n",
    "\n",
    "# Use the `sys` module to print the Python version currently in use and the command-line arguments passed to the script.\n",
    "\n",
    "import sys\n",
    "print(sys.version_info)\n",
    "print(sys.version)\n",
    "print(sys.argv)"
   ]
  },
  {
   "cell_type": "code",
   "execution_count": 47,
   "id": "f864d99b",
   "metadata": {},
   "outputs": [
    {
     "name": "stdout",
     "output_type": "stream",
     "text": [
      "99\n",
      "720\n"
     ]
    }
   ],
   "source": [
    "\n",
    "\n",
    "# ### Assignment 8: Working with the `math` Module\n",
    "\n",
    "# Use the `math` module to calculate the greatest common divisor (GCD) of two numbers and the factorial of a number.\n",
    "\n",
    "import math\n",
    "print(math.gcd(198,297))\n",
    "print(math.factorial(6))\n"
   ]
  },
  {
   "cell_type": "code",
   "execution_count": 58,
   "id": "1d1e0294",
   "metadata": {},
   "outputs": [
    {
     "name": "stdout",
     "output_type": "stream",
     "text": [
      "2025-02-10 11:03:28.161521\n",
      "2025-02-10\n",
      "2025-05-21\n",
      "Monday\n"
     ]
    }
   ],
   "source": [
    "\n",
    "# ### Assignment 9: Working with the `datetime` Module\n",
    "\n",
    "# Use the `datetime` module to print the current date, calculate the date 100 days from today, and determine the day of the week for a given date.\n",
    "\n",
    "import datetime as dt\n",
    "\n",
    "print(dt.datetime.now())\n",
    "print(dt.date.today())\n",
    "print(dt.date.today() + dt.timedelta(days = 100))\n",
    "print(dt.date(2025, 2, 10).strftime('%A'))\n"
   ]
  },
  {
   "cell_type": "code",
   "execution_count": 66,
   "id": "8550049a",
   "metadata": {},
   "outputs": [
    {
     "name": "stdout",
     "output_type": "stream",
     "text": [
      "[30, 49, 16, 42, 47]\n",
      "[42, 33, 11, 48, 20]\n",
      "[1, 2, 3, 4, 5]\n",
      "[1, 4, 5, 3, 2]\n",
      "[1, 2, 3, 4, 5]\n",
      "[3, 2, 4, 1, 5]\n",
      "[1, 2, 3, 4, 5]\n",
      "[3, 5, 1, 2, 4]\n",
      "[1, 2, 3, 4, 5]\n",
      "[3, 1, 2, 4, 5]\n",
      "[1, 2, 3, 4, 5]\n",
      "[2, 5, 1, 3, 4]\n"
     ]
    }
   ],
   "source": [
    "\n",
    "# ### Assignment 10: Working with the `random` Module\n",
    "\n",
    "# Use the `random` module to generate a list of 5 random numbers between 1 and 50 and shuffle the elements of a list.\n",
    "\n",
    "import random\n",
    "a = []\n",
    "for i in range (5):\n",
    "    a.append(random.randint(1,50))\n",
    "print(a)\n",
    "\n",
    "b = [random.randint(1,50) for _ in range(5)]\n",
    "print(b)\n",
    "\n",
    "\n",
    "for i in range (5):\n",
    "    c = [1, 2, 3, 4, 5]\n",
    "    print(c)\n",
    "    random.shuffle(c)\n",
    "    print(c)"
   ]
  },
  {
   "cell_type": "code",
   "execution_count": 71,
   "id": "ebcf4092",
   "metadata": {},
   "outputs": [
    {
     "ename": "ModuleNotFoundError",
     "evalue": "No module named 'mypackage'",
     "output_type": "error",
     "traceback": [
      "\u001b[1;31m---------------------------------------------------------------------------\u001b[0m",
      "\u001b[1;31mModuleNotFoundError\u001b[0m                       Traceback (most recent call last)",
      "Cell \u001b[1;32mIn[71], line 6\u001b[0m\n\u001b[0;32m      1\u001b[0m \u001b[38;5;66;03m# ## Lesson 5.3: Creating and Using Packages\u001b[39;00m\n\u001b[0;32m      2\u001b[0m \u001b[38;5;66;03m# ### Assignment 11: Creating a Simple Package\u001b[39;00m\n\u001b[0;32m      3\u001b[0m \n\u001b[0;32m      4\u001b[0m \u001b[38;5;66;03m# Create a package named `mypackage` with two modules: `module1` and `module2`. `module1` should contain a function that adds two numbers, and `module2` should contain a function that multiplies two numbers. Write code to use these functions.\u001b[39;00m\n\u001b[1;32m----> 6\u001b[0m \u001b[38;5;28;01mfrom\u001b[39;00m \u001b[38;5;21;01mmypackage\u001b[39;00m \u001b[38;5;28;01mimport\u001b[39;00m module1, module2\n\u001b[0;32m      8\u001b[0m \u001b[38;5;28mprint\u001b[39m(module1\u001b[38;5;241m.\u001b[39madd(\u001b[38;5;241m2\u001b[39m,\u001b[38;5;241m3\u001b[39m))\n\u001b[0;32m      9\u001b[0m \u001b[38;5;28mprint\u001b[39m(module2\u001b[38;5;241m.\u001b[39mmul(\u001b[38;5;241m2\u001b[39m,\u001b[38;5;241m3\u001b[39m))\n",
      "\u001b[1;31mModuleNotFoundError\u001b[0m: No module named 'mypackage'"
     ]
    }
   ],
   "source": [
    "# ## Lesson 5.3: Creating and Using Packages\n",
    "# ### Assignment 11: Creating a Simple Package\n",
    "\n",
    "# Create a package named `mypackage` with two modules: `module1` and `module2`. `module1` should contain a function that adds two numbers, and `module2` should contain a function that multiplies two numbers. Write code to use these functions.\n",
    "\n",
    "from mypackage import module1, module2\n",
    "\n",
    "print(module1.add(2,3))\n",
    "print(module2.mul(2,3))\n"
   ]
  },
  {
   "cell_type": "code",
   "execution_count": null,
   "id": "34bbdea4",
   "metadata": {},
   "outputs": [],
   "source": [
    "\n",
    "# ### Assignment 12: Using `__init__.py`\n",
    "\n",
    "# Modify the `mypackage` package to include an `__init__.py` file that imports the functions from `module1` and `module2`. Write code to use these functions."
   ]
  },
  {
   "cell_type": "code",
   "execution_count": null,
   "id": "a64fb1ae",
   "metadata": {},
   "outputs": [],
   "source": [
    "\n",
    "\n",
    "\n",
    "# ### Assignment 13: Importing from a Package\n",
    "\n",
    "# Write code to import and use the functions from `mypackage` without explicitly importing `module1` and `module2`."
   ]
  },
  {
   "cell_type": "code",
   "execution_count": null,
   "id": "cc5d4e56",
   "metadata": {},
   "outputs": [],
   "source": [
    "\n",
    "# ### Assignment 14: Relative Imports\n",
    "\n",
    "# Create a subpackage named `subpackage` within `mypackage` and move `module2` into `subpackage`. Modify the import statements in `__init__.py` to use relative imports. Write code to use the functions from both modules."
   ]
  }
 ],
 "metadata": {
  "kernelspec": {
   "display_name": "Python 3",
   "language": "python",
   "name": "python3"
  },
  "language_info": {
   "codemirror_mode": {
    "name": "ipython",
    "version": 3
   },
   "file_extension": ".py",
   "mimetype": "text/x-python",
   "name": "python",
   "nbconvert_exporter": "python",
   "pygments_lexer": "ipython3",
   "version": "3.12.0"
  }
 },
 "nbformat": 4,
 "nbformat_minor": 5
}
