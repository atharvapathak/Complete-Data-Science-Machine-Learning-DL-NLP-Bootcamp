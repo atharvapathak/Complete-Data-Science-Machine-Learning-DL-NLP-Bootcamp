{
 "cells": [
  {
   "cell_type": "markdown",
   "metadata": {},
   "source": [
    "# Module: Classes and Objects Assignments\n",
    "## Lesson: Creating and Working with Classes and Objects\n",
    "\n"
   ]
  },
  {
   "cell_type": "code",
   "execution_count": 5,
   "metadata": {},
   "outputs": [
    {
     "name": "stdout",
     "output_type": "stream",
     "text": [
      "A B 2025\n"
     ]
    }
   ],
   "source": [
    "# ### Assignment 1: Basic Class and Object Creation\n",
    "\n",
    "# Create a class named `Car` with attributes `make`, `model`, and `year`. Create an object of the class and print its attributes.\n",
    "\n",
    "class Car:\n",
    "    def __init__ (self, make, model, year):\n",
    "        self.make = make\n",
    "        self.model = model\n",
    "        self.year = year\n",
    "    \n",
    "cars = Car(\"A\", \"B\", 2025)\n",
    "\n",
    "print(cars.make, cars.model, cars.year)\n",
    "\n"
   ]
  },
  {
   "cell_type": "code",
   "execution_count": 7,
   "id": "d41f92b0",
   "metadata": {},
   "outputs": [
    {
     "name": "stdout",
     "output_type": "stream",
     "text": [
      "A B 2025\n",
      "engine starts\n",
      "None\n"
     ]
    }
   ],
   "source": [
    "\n",
    "# ### Assignment 2: Methods in Class\n",
    "\n",
    "# Add a method named `start_engine` to the `Car` class that prints a message when the engine starts. Create an object of the class and call the method.\n",
    "\n",
    "\n",
    "class Car:\n",
    "    def __init__ (self, make, model, year):\n",
    "        self.make = make\n",
    "        self.model = model\n",
    "        self.year = year\n",
    "\n",
    "    def start_engine(self):\n",
    "        print(f\"engine starts\")\n",
    "    \n",
    "car1 = Car(\"A\", \"B\", 2025)\n",
    "\n",
    "\n",
    "print(car1.make, cars.model, cars.year)\n",
    "print(car1.start_engine())\n"
   ]
  },
  {
   "cell_type": "code",
   "execution_count": 8,
   "id": "35816ce1",
   "metadata": {},
   "outputs": [
    {
     "name": "stdout",
     "output_type": "stream",
     "text": [
      "Atharva 28\n"
     ]
    }
   ],
   "source": [
    "# ### Assignment 3: Class with Constructor\n",
    "\n",
    "# Create a class named `Student` with attributes `name` and `age`. Use a constructor to initialize these attributes. Create an object of the class and print its attributes.\n",
    "\n",
    "class Student:\n",
    "\n",
    "    def __init__(self, name, age):\n",
    "        self.name = name\n",
    "        self.age = age\n",
    "\n",
    "stu = Student(\"Atharva\", 28)\n",
    "\n",
    "print(stu.name, stu.age)\n"
   ]
  },
  {
   "cell_type": "code",
   "execution_count": 14,
   "id": "7076c9d9",
   "metadata": {},
   "outputs": [
    {
     "name": "stdout",
     "output_type": "stream",
     "text": [
      "369\n",
      "500\n",
      "100 deposited. Total balance is 600\n",
      "Less balance\n",
      "10000 deposited. Total balance is 10600\n",
      "1000 withdrawn. Total balance is 9600\n"
     ]
    },
    {
     "data": {
      "text/plain": [
       "9600"
      ]
     },
     "execution_count": 14,
     "metadata": {},
     "output_type": "execute_result"
    }
   ],
   "source": [
    "# ### Assignment 4: Class with Private Attributes\n",
    "\n",
    "# Create a class named `BankAccount` with private attributes `account_number` and `balance`. Add methods to deposit and withdraw money, and to check the balance. Create an object of the class and perform some operations.\n",
    "\n",
    "class BankAccount:\n",
    "\n",
    "    def __init__(self, account_number, balance=0):\n",
    "        self.account_number = account_number\n",
    "        self.balance = balance\n",
    "\n",
    "    def deposit(self, amount):\n",
    "        self.balance += amount\n",
    "        print(f\"{amount} deposited. Total balance is {self.balance}\")\n",
    "\n",
    "    def withdraw(self, amount):\n",
    "        if amount > self.balance:\n",
    "            print(f\"Less balance\")\n",
    "        else:\n",
    "            self.balance -= amount\n",
    "            print(f\"{amount} withdrawn. Total balance is {self.balance}\")\n",
    "\n",
    "    def get_balance(self):\n",
    "        return self.balance\n",
    "\n",
    "trans = BankAccount(369, 500)\n",
    "\n",
    "print(trans.account_number)\n",
    "print(trans.balance)\n",
    "trans.deposit(100)\n",
    "trans.withdraw(1000)\n",
    "trans.deposit(10000)\n",
    "trans.withdraw(1000)\n",
    "trans.get_balance()\n",
    "\n"
   ]
  },
  {
   "cell_type": "code",
   "execution_count": 21,
   "id": "0f1e8032",
   "metadata": {},
   "outputs": [
    {
     "name": "stdout",
     "output_type": "stream",
     "text": [
      "Atharva 28 151\n"
     ]
    }
   ],
   "source": [
    "# ### Assignment 5: Class Inheritance\n",
    "\n",
    "# Create a base class named `Person` with attributes `name` and `age`. Create a derived class named `Employee` that inherits from `Person` and adds an attribute `employee_id`. Create an object of the derived class and print its attributes.\n",
    "\n",
    "class Person():\n",
    "\n",
    "    def __init__(self, name, age):\n",
    "        self.name = name\n",
    "        self.age = age\n",
    "\n",
    "class Employee(Person):\n",
    "\n",
    "    def __init__(self, name, age, employee_id):\n",
    "        super().__init__(name, age)\n",
    "        self.employee_id = employee_id\n",
    "    \n",
    "emp = Employee (\"Atharva\", 28, 151)\n",
    "\n",
    "print(emp.name, emp.age, emp.employee_id)\n"
   ]
  },
  {
   "cell_type": "code",
   "execution_count": null,
   "id": "9a7b773f",
   "metadata": {},
   "outputs": [],
   "source": [
    "# ### Assignment 6: Method Overriding\n",
    "\n",
    "# In the `Employee` class, override the `__str__` method to return a string representation of the object. Create an object of the class and print it.\n",
    "\n",
    "\n",
    "\n"
   ]
  },
  {
   "cell_type": "code",
   "execution_count": null,
   "id": "cf7c63c0",
   "metadata": {},
   "outputs": [],
   "source": [
    "# ### Assignment 7: Class Composition\n",
    "\n",
    "# Create a class named `Address` with attributes `street`, `city`, and `zipcode`. Create a class named `Person` that has an `Address` object as an attribute. Create an object of the `Person` class and print its address.\n",
    "\n"
   ]
  },
  {
   "cell_type": "code",
   "execution_count": null,
   "id": "dc197fa6",
   "metadata": {},
   "outputs": [],
   "source": [
    "# ### Assignment 8: Class with Class Variables\n",
    "\n",
    "# Create a class named `Counter` with a class variable `count`. Each time an object is created, increment the count. Add a method to get the current count. Create multiple objects and print the count.\n",
    "\n"
   ]
  },
  {
   "cell_type": "code",
   "execution_count": null,
   "id": "a7e7747c",
   "metadata": {},
   "outputs": [],
   "source": [
    "# ### Assignment 9: Static Methods\n",
    "\n",
    "# Create a class named `MathOperations` with a static method to calculate the square root of a number. Call the static method without creating an object.\n",
    "\n"
   ]
  },
  {
   "cell_type": "code",
   "execution_count": null,
   "id": "211db1d7",
   "metadata": {},
   "outputs": [],
   "source": [
    "# ### Assignment 10: Class with Properties\n",
    "\n",
    "# Create a class named `Rectangle` with private attributes `length` and `width`. Use properties to get and set these attributes. Create an object of the class and test the properties.\n",
    "\n"
   ]
  },
  {
   "cell_type": "code",
   "execution_count": null,
   "id": "e929723a",
   "metadata": {},
   "outputs": [],
   "source": [
    "# ### Assignment 11: Abstract Base Class\n",
    "\n",
    "# Create an abstract base class named `Shape` with an abstract method `area`. Create derived classes `Circle` and `Square` that implement the `area` method. Create objects of the derived classes and call the `area` method.\n",
    "\n"
   ]
  },
  {
   "cell_type": "code",
   "execution_count": null,
   "id": "5de3580a",
   "metadata": {},
   "outputs": [],
   "source": [
    "# ### Assignment 12: Operator Overloading\n",
    "\n",
    "# Create a class named `Vector` with attributes `x` and `y`. Overload the `+` operator to add two `Vector` objects. Create objects of the class and test the operator overloading.\n",
    "\n"
   ]
  },
  {
   "cell_type": "code",
   "execution_count": null,
   "id": "d978daab",
   "metadata": {},
   "outputs": [],
   "source": [
    "# ### Assignment 13: Class with Custom Exception\n",
    "\n",
    "# Create a custom exception named `InsufficientBalanceError`. In the `BankAccount` class, raise this exception when a withdrawal amount is greater than the balance. Handle the exception and print an appropriate message.\n",
    "\n"
   ]
  },
  {
   "cell_type": "code",
   "execution_count": null,
   "id": "9597b7ff",
   "metadata": {},
   "outputs": [],
   "source": [
    "# ### Assignment 14: Class with Context Manager\n",
    "\n",
    "# Create a class named `FileManager` that implements the context manager protocol to open and close a file. Use this class to read the contents of a file.\n",
    "\n"
   ]
  },
  {
   "cell_type": "code",
   "execution_count": null,
   "id": "2ace3995",
   "metadata": {},
   "outputs": [],
   "source": [
    "# ### Assignment 15: Chaining Methods\n",
    "\n",
    "# Create a class named `Calculator` with methods to add, subtract, multiply, and divide. Each method should return the object itself to allow method chaining. Create an object and chain multiple method calls."
   ]
  }
 ],
 "metadata": {
  "kernelspec": {
   "display_name": "base",
   "language": "python",
   "name": "python3"
  },
  "language_info": {
   "codemirror_mode": {
    "name": "ipython",
    "version": 3
   },
   "file_extension": ".py",
   "mimetype": "text/x-python",
   "name": "python",
   "nbconvert_exporter": "python",
   "pygments_lexer": "ipython3",
   "version": "3.12.4"
  }
 },
 "nbformat": 4,
 "nbformat_minor": 5
}
