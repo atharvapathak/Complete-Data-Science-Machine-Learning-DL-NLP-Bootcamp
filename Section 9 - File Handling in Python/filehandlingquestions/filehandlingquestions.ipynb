{
 "cells": [
  {
   "cell_type": "markdown",
   "metadata": {},
   "source": [
    "# Module: File Handling Assignments\n",
    "## Lesson: File Handling and Operations\n",
    "\n",
    "\n",
    "\n",
    "\n",
    "\n",
    "\n",
    "\n",
    "\n",
    "\n",
    "\n",
    "\n",
    "\n",
    "\n",
    "### Assignment 11: Creating a Log File\n",
    "\n",
    "Write a function that creates a log file named `activity.log` and writes log messages with timestamps.\n",
    "\n",
    "### Assignment 12: Binary File Operations\n",
    "\n",
    "Write a function that reads a binary file named `image.bin` and writes its contents to another binary file named `copy_image.bin`.\n",
    "\n",
    "### Assignment 13: CSV File Operations\n",
    "\n",
    "Write a function that reads a CSV file named `data.csv` and prints its contents as a list of dictionaries.\n",
    "\n",
    "### Assignment 14: JSON File Operations\n",
    "\n",
    "Write a function that reads a JSON file named `data.json` and prints its contents as a Python dictionary.\n",
    "\n",
    "### Assignment 15: File Permission Handling\n",
    "\n",
    "Write a function that attempts to read a file named `protected.txt` and handles any permission errors gracefully by printing an error message."
   ]
  },
  {
   "cell_type": "code",
   "execution_count": 2,
   "metadata": {},
   "outputs": [
    {
     "name": "stdout",
     "output_type": "stream",
     "text": [
      "Hello world\n",
      "This is a new line \n",
      "\n",
      "Hello world\n",
      "This is a new line\n"
     ]
    }
   ],
   "source": [
    "# ### Assignment 1: Reading a File\n",
    "\n",
    "# Write a function that reads the contents of a file named `sample.txt` and prints each line.\n",
    "\n",
    "with open ('sample.txt', 'r') as file:\n",
    "    content = file.read()\n",
    "    print(content)\n",
    "\n",
    "\n",
    "with open ('sample.txt', 'r') as file:\n",
    "    for line in file:\n",
    "        print(line.strip())\n",
    "\n",
    "\n"
   ]
  },
  {
   "cell_type": "code",
   "execution_count": 3,
   "id": "1bea773d",
   "metadata": {},
   "outputs": [],
   "source": [
    "# ### Assignment 2: Writing to a File\n",
    "\n",
    "# Write a function that writes a list of strings to a file named `output.txt`, with each string on a new line.\n",
    "\n",
    "lst = [\"A\\n\", \"B\\n\", \"C\\n\"]\n",
    "\n",
    "with open('output.txt', 'w') as file:\n",
    "    file.writelines(lst)"
   ]
  },
  {
   "cell_type": "code",
   "execution_count": 5,
   "id": "0b5cb971",
   "metadata": {},
   "outputs": [],
   "source": [
    "\n",
    "# ### Assignment 3: Copying a File\n",
    "\n",
    "# Write a function that copies the contents of a file named `source.txt` to a new file named `destination.txt`.\n",
    "\n",
    "with open ('source.txt', 'r') as file:\n",
    "    content = file.read()\n",
    "\n",
    "with open('destination.txt', 'w') as file:\n",
    "    file.write(content)"
   ]
  },
  {
   "cell_type": "code",
   "execution_count": 15,
   "id": "45e124b0",
   "metadata": {},
   "outputs": [],
   "source": [
    "# ### Assignment 4: Appending to a File\n",
    "\n",
    "# Write a function that appends a given string to the end of a file named `log.txt`.\n",
    "\n",
    "with open('log.txt', 'a') as file:\n",
    "    file.write(\"Write a function that appends a given string to the end of a file named `log.txt`.\\n\")"
   ]
  },
  {
   "cell_type": "code",
   "execution_count": 9,
   "id": "1fa0632b",
   "metadata": {},
   "outputs": [
    {
     "name": "stdout",
     "output_type": "stream",
     "text": [
      "13\n"
     ]
    }
   ],
   "source": [
    "\n",
    "# ### Assignment 5: Counting Words in a File\n",
    "\n",
    "# Write a function that reads the contents of a file named `document.txt` and returns the number of words in the file.\n",
    "\n",
    "with open ('document.txt', 'r') as file:\n",
    "    content = file.read()\n",
    "    lst = content.split()\n",
    "print(len(lst))"
   ]
  },
  {
   "cell_type": "code",
   "execution_count": 10,
   "id": "8f8a8b88",
   "metadata": {},
   "outputs": [],
   "source": [
    "\n",
    "\n",
    "# ### Assignment 6: Finding and Replacing Text\n",
    "\n",
    "# Write a function that finds and replaces all occurrences of a given word in a file named `data.txt` with another word.\n",
    "\n",
    "with open ('document.txt', 'r') as file:\n",
    "    content = file.read()\n",
    "    content = content.replace('Atharva','Siddhi')\n",
    "    with open('document.txt', 'w') as file:\n",
    "        file.write(content)\n"
   ]
  },
  {
   "cell_type": "code",
   "execution_count": 18,
   "id": "cd152927",
   "metadata": {},
   "outputs": [
    {
     "name": "stdout",
     "output_type": "stream",
     "text": [
      "Pathak Atharva is Name My\n",
      "Pathak Narendra Atharva is Name My\n",
      "Atharva is Name My\n",
      "\n"
     ]
    }
   ],
   "source": [
    "\n",
    "# ### Assignment 7: Reading a File in Reverse\n",
    "\n",
    "# Write a function that reads the contents of a file named `reverse.txt` and prints each line in reverse order.\n",
    "\n",
    "a = []\n",
    "with open ('reverse.txt', 'r') as file:\n",
    "    for line in file:\n",
    "        a = line.split()\n",
    "        b = ' '.join(a[::-1])\n",
    "        print(b)\n"
   ]
  },
  {
   "cell_type": "code",
   "execution_count": 22,
   "id": "9d6bc9d2",
   "metadata": {},
   "outputs": [
    {
     "name": "stdout",
     "output_type": "stream",
     "text": [
      "4\n",
      "15\n",
      "81\n"
     ]
    }
   ],
   "source": [
    "\n",
    "# ### Assignment 8: Counting Lines, Words, and Characters\n",
    "\n",
    "# Write a function that reads the contents of a file named `stats.txt` and returns the number of lines, words, and characters in the file.\n",
    "lines = 0\n",
    "words = 0\n",
    "characters = 0\n",
    "with open ('reverse.txt', 'r') as file:\n",
    "    for line in file:\n",
    "        lines += 1\n",
    "        b = line.split()\n",
    "        words += len(b)\n",
    "        for character in line:\n",
    "            characters += 1\n",
    "print(lines)\n",
    "print(words)\n",
    "print(characters)\n",
    "\n"
   ]
  },
  {
   "cell_type": "code",
   "execution_count": 20,
   "id": "2c2d9455",
   "metadata": {},
   "outputs": [
    {
     "name": "stdout",
     "output_type": "stream",
     "text": [
      "M\n",
      "y\n",
      " \n",
      "N\n",
      "a\n",
      "m\n",
      "e\n",
      " \n",
      "i\n",
      "s\n",
      " \n",
      "A\n",
      "t\n",
      "h\n",
      "a\n",
      "r\n",
      "v\n",
      "a\n"
     ]
    }
   ],
   "source": [
    "a = \"My Name is Atharva\"\n",
    "\n",
    "for i in a:\n",
    "    print(i)"
   ]
  },
  {
   "cell_type": "code",
   "execution_count": null,
   "id": "6aacee91",
   "metadata": {},
   "outputs": [],
   "source": [
    "# ### Assignment 9: Merging Multiple Files\n",
    "\n",
    "# Write a function that merges the contents of multiple files into a single file named `merged.txt`.\n",
    "\n",
    "with open ('reverse.txt', 'w') as file1:\n",
    "    for dic in dics:\n",
    "        with open (dic, 'r') as file2:\n",
    "            content = file2.read()\n",
    "            file1.write(content + \"\\n\")\n",
    "\n",
    "\n",
    "dics = ['file1.txt', 'file2.txt']"
   ]
  },
  {
   "cell_type": "code",
   "execution_count": null,
   "id": "fbe2bfaf",
   "metadata": {},
   "outputs": [],
   "source": [
    "# ### Assignment 10: Splitting a Large File\n",
    "\n",
    "# Write a function that splits a large file named `large.txt` into smaller files of 100 lines each.\n",
    "\n"
   ]
  }
 ],
 "metadata": {
  "kernelspec": {
   "display_name": "base",
   "language": "python",
   "name": "python3"
  },
  "language_info": {
   "codemirror_mode": {
    "name": "ipython",
    "version": 3
   },
   "file_extension": ".py",
   "mimetype": "text/x-python",
   "name": "python",
   "nbconvert_exporter": "python",
   "pygments_lexer": "ipython3",
   "version": "3.12.4"
  }
 },
 "nbformat": 4,
 "nbformat_minor": 5
}
